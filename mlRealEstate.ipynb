{
 "cells": [
  {
   "cell_type": "code",
   "execution_count": 206,
   "id": "ideal-tonight",
   "metadata": {},
   "outputs": [],
   "source": [
    "import os\n",
    "import pandas as pd\n",
    "%matplotlib inline\n",
    "import matplotlib.pyplot as plt\n",
    "import numpy as np\n",
    "from sklearn.model_selection import StratifiedShuffleSplit\n",
    "from pandas.plotting import scatter_matrix\n",
    "from sklearn.base import BaseEstimator, TransformerMixin\n",
    "from sklearn.pipeline import Pipeline\n",
    "from sklearn.preprocessing import StandardScaler, OneHotEncoder\n",
    "from sklearn.compose import ColumnTransformer\n",
    "from sklearn.linear_model import LinearRegression\n",
    "from sklearn.metrics import mean_squared_error\n",
    "from scipy import stats"
   ]
  },
  {
   "cell_type": "code",
   "execution_count": 5,
   "id": "swedish-matthew",
   "metadata": {},
   "outputs": [],
   "source": [
    "########################\n",
    "### LOADING THE DATA ###\n",
    "########################"
   ]
  },
  {
   "cell_type": "code",
   "execution_count": 6,
   "id": "outstanding-function",
   "metadata": {},
   "outputs": [],
   "source": [
    "def load_data(path):\n",
    "    return pd.read_csv(path)"
   ]
  },
  {
   "cell_type": "code",
   "execution_count": 7,
   "id": "packed-calibration",
   "metadata": {},
   "outputs": [
    {
     "data": {
      "text/html": [
       "<div>\n",
       "<style scoped>\n",
       "    .dataframe tbody tr th:only-of-type {\n",
       "        vertical-align: middle;\n",
       "    }\n",
       "\n",
       "    .dataframe tbody tr th {\n",
       "        vertical-align: top;\n",
       "    }\n",
       "\n",
       "    .dataframe thead th {\n",
       "        text-align: right;\n",
       "    }\n",
       "</style>\n",
       "<table border=\"1\" class=\"dataframe\">\n",
       "  <thead>\n",
       "    <tr style=\"text-align: right;\">\n",
       "      <th></th>\n",
       "      <th>longitude</th>\n",
       "      <th>latitude</th>\n",
       "      <th>housing_median_age</th>\n",
       "      <th>total_rooms</th>\n",
       "      <th>total_bedrooms</th>\n",
       "      <th>population</th>\n",
       "      <th>households</th>\n",
       "      <th>median_income</th>\n",
       "      <th>median_house_value</th>\n",
       "      <th>ocean_proximity</th>\n",
       "    </tr>\n",
       "  </thead>\n",
       "  <tbody>\n",
       "    <tr>\n",
       "      <th>0</th>\n",
       "      <td>-122.23</td>\n",
       "      <td>37.88</td>\n",
       "      <td>41.0</td>\n",
       "      <td>880.0</td>\n",
       "      <td>129.0</td>\n",
       "      <td>322.0</td>\n",
       "      <td>126.0</td>\n",
       "      <td>8.3252</td>\n",
       "      <td>452600.0</td>\n",
       "      <td>NEAR BAY</td>\n",
       "    </tr>\n",
       "    <tr>\n",
       "      <th>1</th>\n",
       "      <td>-122.22</td>\n",
       "      <td>37.86</td>\n",
       "      <td>21.0</td>\n",
       "      <td>7099.0</td>\n",
       "      <td>1106.0</td>\n",
       "      <td>2401.0</td>\n",
       "      <td>1138.0</td>\n",
       "      <td>8.3014</td>\n",
       "      <td>358500.0</td>\n",
       "      <td>NEAR BAY</td>\n",
       "    </tr>\n",
       "    <tr>\n",
       "      <th>2</th>\n",
       "      <td>-122.24</td>\n",
       "      <td>37.85</td>\n",
       "      <td>52.0</td>\n",
       "      <td>1467.0</td>\n",
       "      <td>190.0</td>\n",
       "      <td>496.0</td>\n",
       "      <td>177.0</td>\n",
       "      <td>7.2574</td>\n",
       "      <td>352100.0</td>\n",
       "      <td>NEAR BAY</td>\n",
       "    </tr>\n",
       "    <tr>\n",
       "      <th>3</th>\n",
       "      <td>-122.25</td>\n",
       "      <td>37.85</td>\n",
       "      <td>52.0</td>\n",
       "      <td>1274.0</td>\n",
       "      <td>235.0</td>\n",
       "      <td>558.0</td>\n",
       "      <td>219.0</td>\n",
       "      <td>5.6431</td>\n",
       "      <td>341300.0</td>\n",
       "      <td>NEAR BAY</td>\n",
       "    </tr>\n",
       "    <tr>\n",
       "      <th>4</th>\n",
       "      <td>-122.25</td>\n",
       "      <td>37.85</td>\n",
       "      <td>52.0</td>\n",
       "      <td>1627.0</td>\n",
       "      <td>280.0</td>\n",
       "      <td>565.0</td>\n",
       "      <td>259.0</td>\n",
       "      <td>3.8462</td>\n",
       "      <td>342200.0</td>\n",
       "      <td>NEAR BAY</td>\n",
       "    </tr>\n",
       "  </tbody>\n",
       "</table>\n",
       "</div>"
      ],
      "text/plain": [
       "   longitude  latitude  housing_median_age  total_rooms  total_bedrooms  \\\n",
       "0    -122.23     37.88                41.0        880.0           129.0   \n",
       "1    -122.22     37.86                21.0       7099.0          1106.0   \n",
       "2    -122.24     37.85                52.0       1467.0           190.0   \n",
       "3    -122.25     37.85                52.0       1274.0           235.0   \n",
       "4    -122.25     37.85                52.0       1627.0           280.0   \n",
       "\n",
       "   population  households  median_income  median_house_value ocean_proximity  \n",
       "0       322.0       126.0         8.3252            452600.0        NEAR BAY  \n",
       "1      2401.0      1138.0         8.3014            358500.0        NEAR BAY  \n",
       "2       496.0       177.0         7.2574            352100.0        NEAR BAY  \n",
       "3       558.0       219.0         5.6431            341300.0        NEAR BAY  \n",
       "4       565.0       259.0         3.8462            342200.0        NEAR BAY  "
      ]
     },
     "execution_count": 7,
     "metadata": {},
     "output_type": "execute_result"
    }
   ],
   "source": [
    "# Note: the csv file was downloaded manually due to issues retrieving from github repo.\n",
    "csv_path = \"datasets\\housing\\housing.csv\"\n",
    "housing = load_data(csv_path)\n",
    "housing.head()"
   ]
  },
  {
   "cell_type": "code",
   "execution_count": 8,
   "id": "applicable-reputation",
   "metadata": {},
   "outputs": [
    {
     "name": "stdout",
     "output_type": "stream",
     "text": [
      "<class 'pandas.core.frame.DataFrame'>\n",
      "RangeIndex: 20640 entries, 0 to 20639\n",
      "Data columns (total 10 columns):\n",
      " #   Column              Non-Null Count  Dtype  \n",
      "---  ------              --------------  -----  \n",
      " 0   longitude           20640 non-null  float64\n",
      " 1   latitude            20640 non-null  float64\n",
      " 2   housing_median_age  20640 non-null  float64\n",
      " 3   total_rooms         20640 non-null  float64\n",
      " 4   total_bedrooms      20433 non-null  float64\n",
      " 5   population          20640 non-null  float64\n",
      " 6   households          20640 non-null  float64\n",
      " 7   median_income       20640 non-null  float64\n",
      " 8   median_house_value  20640 non-null  float64\n",
      " 9   ocean_proximity     20640 non-null  object \n",
      "dtypes: float64(9), object(1)\n",
      "memory usage: 1.6+ MB\n"
     ]
    }
   ],
   "source": [
    "housing.info()\n",
    "# Note: there is only 20433 total_bedrooms for 20,640 instances, meaning 207 districts are missing this feature!"
   ]
  },
  {
   "cell_type": "code",
   "execution_count": 9,
   "id": "secure-witch",
   "metadata": {},
   "outputs": [
    {
     "data": {
      "text/plain": [
       "<1H OCEAN     9136\n",
       "INLAND        6551\n",
       "NEAR OCEAN    2658\n",
       "NEAR BAY      2290\n",
       "ISLAND           5\n",
       "Name: ocean_proximity, dtype: int64"
      ]
     },
     "execution_count": 9,
     "metadata": {},
     "output_type": "execute_result"
    }
   ],
   "source": [
    "housing[\"ocean_proximity\"].value_counts()"
   ]
  },
  {
   "cell_type": "code",
   "execution_count": 10,
   "id": "grave-behalf",
   "metadata": {},
   "outputs": [
    {
     "data": {
      "text/html": [
       "<div>\n",
       "<style scoped>\n",
       "    .dataframe tbody tr th:only-of-type {\n",
       "        vertical-align: middle;\n",
       "    }\n",
       "\n",
       "    .dataframe tbody tr th {\n",
       "        vertical-align: top;\n",
       "    }\n",
       "\n",
       "    .dataframe thead th {\n",
       "        text-align: right;\n",
       "    }\n",
       "</style>\n",
       "<table border=\"1\" class=\"dataframe\">\n",
       "  <thead>\n",
       "    <tr style=\"text-align: right;\">\n",
       "      <th></th>\n",
       "      <th>longitude</th>\n",
       "      <th>latitude</th>\n",
       "      <th>housing_median_age</th>\n",
       "      <th>total_rooms</th>\n",
       "      <th>total_bedrooms</th>\n",
       "      <th>population</th>\n",
       "      <th>households</th>\n",
       "      <th>median_income</th>\n",
       "      <th>median_house_value</th>\n",
       "    </tr>\n",
       "  </thead>\n",
       "  <tbody>\n",
       "    <tr>\n",
       "      <th>count</th>\n",
       "      <td>20640.000000</td>\n",
       "      <td>20640.000000</td>\n",
       "      <td>20640.000000</td>\n",
       "      <td>20640.000000</td>\n",
       "      <td>20433.000000</td>\n",
       "      <td>20640.000000</td>\n",
       "      <td>20640.000000</td>\n",
       "      <td>20640.000000</td>\n",
       "      <td>20640.000000</td>\n",
       "    </tr>\n",
       "    <tr>\n",
       "      <th>mean</th>\n",
       "      <td>-119.569704</td>\n",
       "      <td>35.631861</td>\n",
       "      <td>28.639486</td>\n",
       "      <td>2635.763081</td>\n",
       "      <td>537.870553</td>\n",
       "      <td>1425.476744</td>\n",
       "      <td>499.539680</td>\n",
       "      <td>3.870671</td>\n",
       "      <td>206855.816909</td>\n",
       "    </tr>\n",
       "    <tr>\n",
       "      <th>std</th>\n",
       "      <td>2.003532</td>\n",
       "      <td>2.135952</td>\n",
       "      <td>12.585558</td>\n",
       "      <td>2181.615252</td>\n",
       "      <td>421.385070</td>\n",
       "      <td>1132.462122</td>\n",
       "      <td>382.329753</td>\n",
       "      <td>1.899822</td>\n",
       "      <td>115395.615874</td>\n",
       "    </tr>\n",
       "    <tr>\n",
       "      <th>min</th>\n",
       "      <td>-124.350000</td>\n",
       "      <td>32.540000</td>\n",
       "      <td>1.000000</td>\n",
       "      <td>2.000000</td>\n",
       "      <td>1.000000</td>\n",
       "      <td>3.000000</td>\n",
       "      <td>1.000000</td>\n",
       "      <td>0.499900</td>\n",
       "      <td>14999.000000</td>\n",
       "    </tr>\n",
       "    <tr>\n",
       "      <th>25%</th>\n",
       "      <td>-121.800000</td>\n",
       "      <td>33.930000</td>\n",
       "      <td>18.000000</td>\n",
       "      <td>1447.750000</td>\n",
       "      <td>296.000000</td>\n",
       "      <td>787.000000</td>\n",
       "      <td>280.000000</td>\n",
       "      <td>2.563400</td>\n",
       "      <td>119600.000000</td>\n",
       "    </tr>\n",
       "    <tr>\n",
       "      <th>50%</th>\n",
       "      <td>-118.490000</td>\n",
       "      <td>34.260000</td>\n",
       "      <td>29.000000</td>\n",
       "      <td>2127.000000</td>\n",
       "      <td>435.000000</td>\n",
       "      <td>1166.000000</td>\n",
       "      <td>409.000000</td>\n",
       "      <td>3.534800</td>\n",
       "      <td>179700.000000</td>\n",
       "    </tr>\n",
       "    <tr>\n",
       "      <th>75%</th>\n",
       "      <td>-118.010000</td>\n",
       "      <td>37.710000</td>\n",
       "      <td>37.000000</td>\n",
       "      <td>3148.000000</td>\n",
       "      <td>647.000000</td>\n",
       "      <td>1725.000000</td>\n",
       "      <td>605.000000</td>\n",
       "      <td>4.743250</td>\n",
       "      <td>264725.000000</td>\n",
       "    </tr>\n",
       "    <tr>\n",
       "      <th>max</th>\n",
       "      <td>-114.310000</td>\n",
       "      <td>41.950000</td>\n",
       "      <td>52.000000</td>\n",
       "      <td>39320.000000</td>\n",
       "      <td>6445.000000</td>\n",
       "      <td>35682.000000</td>\n",
       "      <td>6082.000000</td>\n",
       "      <td>15.000100</td>\n",
       "      <td>500001.000000</td>\n",
       "    </tr>\n",
       "  </tbody>\n",
       "</table>\n",
       "</div>"
      ],
      "text/plain": [
       "          longitude      latitude  housing_median_age   total_rooms  \\\n",
       "count  20640.000000  20640.000000        20640.000000  20640.000000   \n",
       "mean    -119.569704     35.631861           28.639486   2635.763081   \n",
       "std        2.003532      2.135952           12.585558   2181.615252   \n",
       "min     -124.350000     32.540000            1.000000      2.000000   \n",
       "25%     -121.800000     33.930000           18.000000   1447.750000   \n",
       "50%     -118.490000     34.260000           29.000000   2127.000000   \n",
       "75%     -118.010000     37.710000           37.000000   3148.000000   \n",
       "max     -114.310000     41.950000           52.000000  39320.000000   \n",
       "\n",
       "       total_bedrooms    population    households  median_income  \\\n",
       "count    20433.000000  20640.000000  20640.000000   20640.000000   \n",
       "mean       537.870553   1425.476744    499.539680       3.870671   \n",
       "std        421.385070   1132.462122    382.329753       1.899822   \n",
       "min          1.000000      3.000000      1.000000       0.499900   \n",
       "25%        296.000000    787.000000    280.000000       2.563400   \n",
       "50%        435.000000   1166.000000    409.000000       3.534800   \n",
       "75%        647.000000   1725.000000    605.000000       4.743250   \n",
       "max       6445.000000  35682.000000   6082.000000      15.000100   \n",
       "\n",
       "       median_house_value  \n",
       "count        20640.000000  \n",
       "mean        206855.816909  \n",
       "std         115395.615874  \n",
       "min          14999.000000  \n",
       "25%         119600.000000  \n",
       "50%         179700.000000  \n",
       "75%         264725.000000  \n",
       "max         500001.000000  "
      ]
     },
     "execution_count": 10,
     "metadata": {},
     "output_type": "execute_result"
    }
   ],
   "source": [
    "housing.describe()"
   ]
  },
  {
   "cell_type": "code",
   "execution_count": 11,
   "id": "subtle-signal",
   "metadata": {},
   "outputs": [
    {
     "data": {
      "image/png": "[encoded data removed]",
      "text/plain": [
       "<Figure size 1440x1080 with 9 Axes>"
      ]
     },
     "metadata": {
      "needs_background": "light"
     },
     "output_type": "display_data"
    }
   ],
   "source": [
    "housing.hist(bins=50, figsize=(20,15))\n",
    "plt.show()\n",
    "# Note: median income was preprocessed and has a range between 0.5 and 15,\n",
    "# meaning the values were capped between an upper and lower bound.\n",
    "# The numbers roughly match tens of thousands of dollars.\n",
    "\n",
    "# The median house age and median house value were also capped.\n",
    "# For example, a house with a value of $750,000 now has a value of $500,000 in the data.\n",
    "# This will pose a problem for our model, as the model may learn house prices do not scale past $500,000.\n",
    "# If precise predictions are required for houses past $500,000, then the correct labels will be needed, or\n",
    "# these instances will have to be removed.\n",
    "\n",
    "# Much of the histograms here are tail-heavy (more data to the right of the median).\n",
    "# These can be transformed to have more bell-shaped distributions."
   ]
  },
  {
   "cell_type": "code",
   "execution_count": 12,
   "id": "pressing-terry",
   "metadata": {},
   "outputs": [],
   "source": [
    "##########################\n",
    "### SPLITTING THE DATA ###\n",
    "##########################"
   ]
  },
  {
   "cell_type": "code",
   "execution_count": 13,
   "id": "frank-senate",
   "metadata": {},
   "outputs": [],
   "source": [
    "def rand_split_data(data, test_ratio=0.2):\n",
    "    # hardcode the seed for np.random, so the same permutations are generated each time.\n",
    "    # this only works on the same data set (updating the data set will change the instances in the split).\n",
    "    # this can be solved by hashing each instance's unique identifier and\n",
    "    # checking if its <= the test ratio of the maximum hash value (to decide whether to add instance to test data).\n",
    "    np.random.seed(7)\n",
    "    shuffled_indices = np.random.permutation(len(data))\n",
    "    test_set_len = int(len(data)*test_ratio)\n",
    "    test_indices = shuffled_indices[:test_set_len]\n",
    "    train_indices = shuffled_indices[test_set_len:]\n",
    "    return data.iloc[train_indices], data.iloc[test_indices]"
   ]
  },
  {
   "cell_type": "code",
   "execution_count": 15,
   "id": "received-prophet",
   "metadata": {},
   "outputs": [
    {
     "name": "stdout",
     "output_type": "stream",
     "text": [
      "16512 4128\n"
     ]
    }
   ],
   "source": [
    "rand_train_data, rand_test_data = rand_split_data(housing)\n",
    "print(len(rand_train_data), len(rand_test_data))\n",
    "# Note: for a small data set, 20% test ratio is good. Larger data sets can use lower test ratios.\n",
    "# Random sampling is good for large enough data sets. If a data set is small, random sampling can introduce sampling bias.\n",
    "# (too many similar instances are selected for the test set, entire population is misrepresented)."
   ]
  },
  {
   "cell_type": "code",
   "execution_count": 16,
   "id": "secondary-trick",
   "metadata": {},
   "outputs": [
    {
     "data": {
      "text/html": [
       "<div>\n",
       "<style scoped>\n",
       "    .dataframe tbody tr th:only-of-type {\n",
       "        vertical-align: middle;\n",
       "    }\n",
       "\n",
       "    .dataframe tbody tr th {\n",
       "        vertical-align: top;\n",
       "    }\n",
       "\n",
       "    .dataframe thead th {\n",
       "        text-align: right;\n",
       "    }\n",
       "</style>\n",
       "<table border=\"1\" class=\"dataframe\">\n",
       "  <thead>\n",
       "    <tr style=\"text-align: right;\">\n",
       "      <th></th>\n",
       "      <th>longitude</th>\n",
       "      <th>latitude</th>\n",
       "      <th>housing_median_age</th>\n",
       "      <th>total_rooms</th>\n",
       "      <th>total_bedrooms</th>\n",
       "      <th>population</th>\n",
       "      <th>households</th>\n",
       "      <th>median_income</th>\n",
       "      <th>median_house_value</th>\n",
       "      <th>ocean_proximity</th>\n",
       "      <th>income_cat</th>\n",
       "    </tr>\n",
       "  </thead>\n",
       "  <tbody>\n",
       "    <tr>\n",
       "      <th>0</th>\n",
       "      <td>-122.23</td>\n",
       "      <td>37.88</td>\n",
       "      <td>41.0</td>\n",
       "      <td>880.0</td>\n",
       "      <td>129.0</td>\n",
       "      <td>322.0</td>\n",
       "      <td>126.0</td>\n",
       "      <td>8.3252</td>\n",
       "      <td>452600.0</td>\n",
       "      <td>NEAR BAY</td>\n",
       "      <td>5</td>\n",
       "    </tr>\n",
       "    <tr>\n",
       "      <th>1</th>\n",
       "      <td>-122.22</td>\n",
       "      <td>37.86</td>\n",
       "      <td>21.0</td>\n",
       "      <td>7099.0</td>\n",
       "      <td>1106.0</td>\n",
       "      <td>2401.0</td>\n",
       "      <td>1138.0</td>\n",
       "      <td>8.3014</td>\n",
       "      <td>358500.0</td>\n",
       "      <td>NEAR BAY</td>\n",
       "      <td>5</td>\n",
       "    </tr>\n",
       "    <tr>\n",
       "      <th>2</th>\n",
       "      <td>-122.24</td>\n",
       "      <td>37.85</td>\n",
       "      <td>52.0</td>\n",
       "      <td>1467.0</td>\n",
       "      <td>190.0</td>\n",
       "      <td>496.0</td>\n",
       "      <td>177.0</td>\n",
       "      <td>7.2574</td>\n",
       "      <td>352100.0</td>\n",
       "      <td>NEAR BAY</td>\n",
       "      <td>5</td>\n",
       "    </tr>\n",
       "    <tr>\n",
       "      <th>3</th>\n",
       "      <td>-122.25</td>\n",
       "      <td>37.85</td>\n",
       "      <td>52.0</td>\n",
       "      <td>1274.0</td>\n",
       "      <td>235.0</td>\n",
       "      <td>558.0</td>\n",
       "      <td>219.0</td>\n",
       "      <td>5.6431</td>\n",
       "      <td>341300.0</td>\n",
       "      <td>NEAR BAY</td>\n",
       "      <td>4</td>\n",
       "    </tr>\n",
       "    <tr>\n",
       "      <th>4</th>\n",
       "      <td>-122.25</td>\n",
       "      <td>37.85</td>\n",
       "      <td>52.0</td>\n",
       "      <td>1627.0</td>\n",
       "      <td>280.0</td>\n",
       "      <td>565.0</td>\n",
       "      <td>259.0</td>\n",
       "      <td>3.8462</td>\n",
       "      <td>342200.0</td>\n",
       "      <td>NEAR BAY</td>\n",
       "      <td>3</td>\n",
       "    </tr>\n",
       "  </tbody>\n",
       "</table>\n",
       "</div>"
      ],
      "text/plain": [
       "   longitude  latitude  housing_median_age  total_rooms  total_bedrooms  \\\n",
       "0    -122.23     37.88                41.0        880.0           129.0   \n",
       "1    -122.22     37.86                21.0       7099.0          1106.0   \n",
       "2    -122.24     37.85                52.0       1467.0           190.0   \n",
       "3    -122.25     37.85                52.0       1274.0           235.0   \n",
       "4    -122.25     37.85                52.0       1627.0           280.0   \n",
       "\n",
       "   population  households  median_income  median_house_value ocean_proximity  \\\n",
       "0       322.0       126.0         8.3252            452600.0        NEAR BAY   \n",
       "1      2401.0      1138.0         8.3014            358500.0        NEAR BAY   \n",
       "2       496.0       177.0         7.2574            352100.0        NEAR BAY   \n",
       "3       558.0       219.0         5.6431            341300.0        NEAR BAY   \n",
       "4       565.0       259.0         3.8462            342200.0        NEAR BAY   \n",
       "\n",
       "  income_cat  \n",
       "0          5  \n",
       "1          5  \n",
       "2          5  \n",
       "3          4  \n",
       "4          3  "
      ]
     },
     "execution_count": 16,
     "metadata": {},
     "output_type": "execute_result"
    }
   ],
   "source": [
    "# Realising a certain feature (in this case, median income) of the data is very important\n",
    "# for predicting the median house prices means that, instead of randomized sampling, which may introduce bias,\n",
    "# it would be better to use stratified sampling.\n",
    "# The goal would be to always maintain a good representation of an important feature within the test set.\n",
    "# Each stratum should be well-represented (sufficient number of instances w.r.t the population),\n",
    "# and their should now be too many strata. Here the bins range from 0-1.5-3.0-4.5-6.0+. This captures the entire\n",
    "# population (see median_income histogram above), and categorises them effectively into 5 ~equally-spread categories.\n",
    "housing[\"income_cat\"] = pd.cut(housing[\"median_income\"],\n",
    "                               bins=[0., 1.5, 3.0, 4.5, 6., np.inf],\n",
    "                               labels=[1, 2, 3, 4, 5])\n",
    "housing.head()\n",
    "# Note: The 'income_cat' attribute has been added to the data for the purposes of stratified splitting.\n",
    "# It must be removed afterwards to return the data to its original state."
   ]
  },
  {
   "cell_type": "code",
   "execution_count": 17,
   "id": "abandoned-boost",
   "metadata": {},
   "outputs": [
    {
     "data": {
      "text/plain": [
       "<AxesSubplot:>"
      ]
     },
     "execution_count": 17,
     "metadata": {},
     "output_type": "execute_result"
    },
    {
     "data": {
      "image/png": "[encoded data removed]",
      "text/plain": [
       "<Figure size 432x288 with 1 Axes>"
      ]
     },
     "metadata": {
      "needs_background": "light"
     },
     "output_type": "display_data"
    }
   ],
   "source": [
    "housing[\"income_cat\"].hist()"
   ]
  },
  {
   "cell_type": "code",
   "execution_count": 18,
   "id": "painted-cursor",
   "metadata": {},
   "outputs": [],
   "source": [
    "# Now the data can be split in a stratified manner, based on the median income of the data.\n",
    "def strat_split_data(data, strat_data, test_ratio=0.2, seed=7):\n",
    "    split = StratifiedShuffleSplit(n_splits=1, test_size=0.2, random_state=7)\n",
    "    for train_index, test_index in split.split(data, strat_data):\n",
    "        strat_train_data = housing.loc[train_index]\n",
    "        strat_test_data = housing.loc[test_index]\n",
    "\n",
    "    return strat_train_data, strat_test_data"
   ]
  },
  {
   "cell_type": "code",
   "execution_count": 19,
   "id": "pregnant-spiritual",
   "metadata": {},
   "outputs": [
    {
     "data": {
      "text/plain": [
       "3    1447\n",
       "2    1316\n",
       "4     728\n",
       "5     473\n",
       "1     164\n",
       "Name: income_cat, dtype: int64"
      ]
     },
     "execution_count": 19,
     "metadata": {},
     "output_type": "execute_result"
    }
   ],
   "source": [
    "strat_train_data, strat_test_data = strat_split_data(housing, housing[\"income_cat\"])\n",
    "strat_test_data[\"income_cat\"].value_counts()\n",
    "# The median income population is well represented across the test data."
   ]
  },
  {
   "cell_type": "code",
   "execution_count": 20,
   "id": "quantitative-secretariat",
   "metadata": {},
   "outputs": [],
   "source": [
    "# Remove the income_cat attribute from the data now that the split is complete.\n",
    "for set_ in (strat_train_data, strat_test_data):\n",
    "    set_.drop(\"income_cat\", axis=1, inplace=True)"
   ]
  },
  {
   "cell_type": "code",
   "execution_count": 33,
   "id": "charming-drove",
   "metadata": {},
   "outputs": [],
   "source": [
    "########################\n",
    "### DATA EXPLORATION ###\n",
    "########################"
   ]
  },
  {
   "cell_type": "code",
   "execution_count": 23,
   "id": "satellite-meaning",
   "metadata": {},
   "outputs": [
    {
     "data": {
      "text/plain": [
       "<AxesSubplot:xlabel='longitude', ylabel='latitude'>"
      ]
     },
     "execution_count": 23,
     "metadata": {},
     "output_type": "execute_result"
    },
    {
     "data": {
      "image/png": "[encoded data removed]",
      "text/plain": [
       "<Figure size 432x288 with 1 Axes>"
      ]
     },
     "metadata": {
      "needs_background": "light"
     },
     "output_type": "display_data"
    }
   ],
   "source": [
    "# Create a copy of the training data. Only perform data analysis on the training set, to avoid\n",
    "# becoming biased towards a particular model based on insights into the test data.\n",
    "housing = strat_train_data.copy()\n",
    "housing.plot(kind=\"scatter\", x=\"longitude\", y=\"latitude\", alpha=0.1)\n",
    "# Califorinia housing district instances plotted on a scatter plot."
   ]
  },
  {
   "cell_type": "code",
   "execution_count": 24,
   "id": "impressive-spread",
   "metadata": {},
   "outputs": [
    {
     "data": {
      "text/plain": [
       "<matplotlib.legend.Legend at 0x1213837af48>"
      ]
     },
     "execution_count": 24,
     "metadata": {},
     "output_type": "execute_result"
    },
    {
     "data": {
      "image/png": "[encoded data removed]",
      "text/plain": [
       "<Figure size 720x504 with 2 Axes>"
      ]
     },
     "metadata": {
      "needs_background": "light"
     },
     "output_type": "display_data"
    }
   ],
   "source": [
    "housing.plot(kind=\"scatter\", x=\"longitude\", y=\"latitude\", alpha=0.4,\n",
    "            s=housing[\"population\"]/100, label=\"population\", figsize=(10,7),\n",
    "            c=\"median_house_value\", cmap=plt.get_cmap(\"jet\"), colorbar=True\n",
    "            )\n",
    "plt.legend()\n",
    "# s (radius of each point) represents the district's population size.\n",
    "# c (color map) represents the districts median house value.\n",
    "# There is a clear relation between the population density of an area and the prices of the houses.\n",
    "# There is also a relationship between coastal proximity and housing prices, but this is not\n",
    "# an exact relationship as coastal houses in northern California are not very expensive."
   ]
  },
  {
   "cell_type": "code",
   "execution_count": 29,
   "id": "norman-recipe",
   "metadata": {},
   "outputs": [
    {
     "data": {
      "text/plain": [
       "median_house_value    1.000000\n",
       "median_income         0.686222\n",
       "total_rooms           0.134988\n",
       "housing_median_age    0.109193\n",
       "households            0.065806\n",
       "total_bedrooms        0.050134\n",
       "population           -0.024929\n",
       "longitude            -0.045711\n",
       "latitude             -0.145698\n",
       "Name: median_house_value, dtype: float64"
      ]
     },
     "execution_count": 29,
     "metadata": {},
     "output_type": "execute_result"
    }
   ],
   "source": [
    "# Since the dataset is quite small, the standard correlation coefficient can be calculated for each feature.\n",
    "# There is a correlation of +1 between the price and itself (obvious).\n",
    "# Median income has a positive correlation with median price, therefore it is good that the test data\n",
    "# was sampled in a stratified manner for this feature, as it need to be well-represented.\n",
    "# However, this insight into the training data may be biased, but since it seems rather logical,\n",
    "# we can note this assumption and move forward.\n",
    "# Latitude has a small negative correlation with the house prices, indicating houses in the southern regions are\n",
    "# more likely to be more expensive.\n",
    "# District population has little correlation to house prices. We did see in the previous scatter graph that \n",
    "# the population density of an area has an impact on house prices, but this is not captured when calculating the \n",
    "# coefficient for the entire data. There are high population areas with lower prices. A clustering algorithm\n",
    "# on the data could add the necessary feature(s) to capture the effects of population density more accurately.\n",
    "correlation_matrix = housing.corr()\n",
    "correlation_matrix[\"median_house_value\"].sort_values(ascending=False)"
   ]
  },
  {
   "cell_type": "code",
   "execution_count": 39,
   "id": "innocent-basic",
   "metadata": {},
   "outputs": [
    {
     "data": {
      "text/html": [
       "<div>\n",
       "<style scoped>\n",
       "    .dataframe tbody tr th:only-of-type {\n",
       "        vertical-align: middle;\n",
       "    }\n",
       "\n",
       "    .dataframe tbody tr th {\n",
       "        vertical-align: top;\n",
       "    }\n",
       "\n",
       "    .dataframe thead th {\n",
       "        text-align: right;\n",
       "    }\n",
       "</style>\n",
       "<table border=\"1\" class=\"dataframe\">\n",
       "  <thead>\n",
       "    <tr style=\"text-align: right;\">\n",
       "      <th></th>\n",
       "      <th>longitude</th>\n",
       "      <th>latitude</th>\n",
       "      <th>housing_median_age</th>\n",
       "      <th>total_rooms</th>\n",
       "      <th>total_bedrooms</th>\n",
       "      <th>population</th>\n",
       "      <th>households</th>\n",
       "      <th>median_income</th>\n",
       "      <th>median_house_value</th>\n",
       "      <th>ocean_proximity</th>\n",
       "      <th>rooms_per_household</th>\n",
       "      <th>bedrooms_per_rooms</th>\n",
       "      <th>bedrooms_per_household</th>\n",
       "    </tr>\n",
       "  </thead>\n",
       "  <tbody>\n",
       "    <tr>\n",
       "      <th>12448</th>\n",
       "      <td>-114.65</td>\n",
       "      <td>33.60</td>\n",
       "      <td>28.0</td>\n",
       "      <td>1678.0</td>\n",
       "      <td>322.0</td>\n",
       "      <td>666.0</td>\n",
       "      <td>256.0</td>\n",
       "      <td>2.9653</td>\n",
       "      <td>94900.0</td>\n",
       "      <td>INLAND</td>\n",
       "      <td>6.554688</td>\n",
       "      <td>0.191895</td>\n",
       "      <td>1.257812</td>\n",
       "    </tr>\n",
       "    <tr>\n",
       "      <th>2745</th>\n",
       "      <td>-115.57</td>\n",
       "      <td>32.79</td>\n",
       "      <td>34.0</td>\n",
       "      <td>1152.0</td>\n",
       "      <td>208.0</td>\n",
       "      <td>621.0</td>\n",
       "      <td>208.0</td>\n",
       "      <td>3.6042</td>\n",
       "      <td>73600.0</td>\n",
       "      <td>INLAND</td>\n",
       "      <td>5.538462</td>\n",
       "      <td>0.180556</td>\n",
       "      <td>1.000000</td>\n",
       "    </tr>\n",
       "    <tr>\n",
       "      <th>2949</th>\n",
       "      <td>-119.00</td>\n",
       "      <td>35.35</td>\n",
       "      <td>31.0</td>\n",
       "      <td>2931.0</td>\n",
       "      <td>716.0</td>\n",
       "      <td>1969.0</td>\n",
       "      <td>588.0</td>\n",
       "      <td>2.2155</td>\n",
       "      <td>62100.0</td>\n",
       "      <td>INLAND</td>\n",
       "      <td>4.984694</td>\n",
       "      <td>0.244285</td>\n",
       "      <td>1.217687</td>\n",
       "    </tr>\n",
       "    <tr>\n",
       "      <th>11792</th>\n",
       "      <td>-121.21</td>\n",
       "      <td>38.83</td>\n",
       "      <td>21.0</td>\n",
       "      <td>3691.0</td>\n",
       "      <td>640.0</td>\n",
       "      <td>1758.0</td>\n",
       "      <td>603.0</td>\n",
       "      <td>3.5607</td>\n",
       "      <td>151900.0</td>\n",
       "      <td>INLAND</td>\n",
       "      <td>6.121061</td>\n",
       "      <td>0.173395</td>\n",
       "      <td>1.061360</td>\n",
       "    </tr>\n",
       "    <tr>\n",
       "      <th>14485</th>\n",
       "      <td>-117.29</td>\n",
       "      <td>32.92</td>\n",
       "      <td>25.0</td>\n",
       "      <td>2355.0</td>\n",
       "      <td>381.0</td>\n",
       "      <td>823.0</td>\n",
       "      <td>358.0</td>\n",
       "      <td>6.8322</td>\n",
       "      <td>500001.0</td>\n",
       "      <td>NEAR OCEAN</td>\n",
       "      <td>6.578212</td>\n",
       "      <td>0.161783</td>\n",
       "      <td>1.064246</td>\n",
       "    </tr>\n",
       "  </tbody>\n",
       "</table>\n",
       "</div>"
      ],
      "text/plain": [
       "       longitude  latitude  housing_median_age  total_rooms  total_bedrooms  \\\n",
       "12448    -114.65     33.60                28.0       1678.0           322.0   \n",
       "2745     -115.57     32.79                34.0       1152.0           208.0   \n",
       "2949     -119.00     35.35                31.0       2931.0           716.0   \n",
       "11792    -121.21     38.83                21.0       3691.0           640.0   \n",
       "14485    -117.29     32.92                25.0       2355.0           381.0   \n",
       "\n",
       "       population  households  median_income  median_house_value  \\\n",
       "12448       666.0       256.0         2.9653             94900.0   \n",
       "2745        621.0       208.0         3.6042             73600.0   \n",
       "2949       1969.0       588.0         2.2155             62100.0   \n",
       "11792      1758.0       603.0         3.5607            151900.0   \n",
       "14485       823.0       358.0         6.8322            500001.0   \n",
       "\n",
       "      ocean_proximity  rooms_per_household  bedrooms_per_rooms  \\\n",
       "12448          INLAND             6.554688            0.191895   \n",
       "2745           INLAND             5.538462            0.180556   \n",
       "2949           INLAND             4.984694            0.244285   \n",
       "11792          INLAND             6.121061            0.173395   \n",
       "14485      NEAR OCEAN             6.578212            0.161783   \n",
       "\n",
       "       bedrooms_per_household  \n",
       "12448                1.257812  \n",
       "2745                 1.000000  \n",
       "2949                 1.217687  \n",
       "11792                1.061360  \n",
       "14485                1.064246  "
      ]
     },
     "execution_count": 39,
     "metadata": {},
     "output_type": "execute_result"
    }
   ],
   "source": [
    "# Attribute/Feature combinations:\n",
    "# total_rooms in a district seems to be a strange feature, and could be improved by combining it with\n",
    "# the number of households, in order to produce a combined feature \"rooms_per_household\".\n",
    "# Similarly, total_bedrooms, which is uncorrelated with the median_house_value, could be combined with\n",
    "# total_rooms to find the number of bedrooms per rooms.\n",
    "housing[\"rooms_per_household\"] = housing[\"total_rooms\"]/housing[\"households\"]\n",
    "housing[\"bedrooms_per_rooms\"] = housing[\"total_bedrooms\"]/housing[\"total_rooms\"]\n",
    "#housing[\"bedrooms_per_household\"] = housing[\"total_bedrooms\"]/housing[\"households\"]\n",
    "housing.head()"
   ]
  },
  {
   "cell_type": "code",
   "execution_count": 40,
   "id": "increased-chrome",
   "metadata": {},
   "outputs": [
    {
     "data": {
      "text/plain": [
       "median_house_value        1.000000\n",
       "median_income             0.686222\n",
       "rooms_per_household       0.147343\n",
       "total_rooms               0.134988\n",
       "housing_median_age        0.109193\n",
       "households                0.065806\n",
       "total_bedrooms            0.050134\n",
       "population               -0.024929\n",
       "bedrooms_per_household   -0.040978\n",
       "longitude                -0.045711\n",
       "latitude                 -0.145698\n",
       "bedrooms_per_rooms       -0.253736\n",
       "Name: median_house_value, dtype: float64"
      ]
     },
     "execution_count": 40,
     "metadata": {},
     "output_type": "execute_result"
    }
   ],
   "source": [
    "# Revisiting the correlation matrix, the rooms_per_household has a stronger correlation than total_rooms,\n",
    "# indicating larger houses are more expensive.\n",
    "# Furthermore, the bedrooms per rooms has a negative correlation, indicating houses with a lower \n",
    "# bedroom/room ratio are more expensive.\n",
    "correlation_matrix = housing.corr()\n",
    "correlation_matrix[\"median_house_value\"].sort_values(ascending=False)"
   ]
  },
  {
   "cell_type": "code",
   "execution_count": 41,
   "id": "derived-puzzle",
   "metadata": {},
   "outputs": [
    {
     "data": {
      "text/html": [
       "<div>\n",
       "<style scoped>\n",
       "    .dataframe tbody tr th:only-of-type {\n",
       "        vertical-align: middle;\n",
       "    }\n",
       "\n",
       "    .dataframe tbody tr th {\n",
       "        vertical-align: top;\n",
       "    }\n",
       "\n",
       "    .dataframe thead th {\n",
       "        text-align: right;\n",
       "    }\n",
       "</style>\n",
       "<table border=\"1\" class=\"dataframe\">\n",
       "  <thead>\n",
       "    <tr style=\"text-align: right;\">\n",
       "      <th></th>\n",
       "      <th>longitude</th>\n",
       "      <th>latitude</th>\n",
       "      <th>housing_median_age</th>\n",
       "      <th>total_rooms</th>\n",
       "      <th>total_bedrooms</th>\n",
       "      <th>population</th>\n",
       "      <th>households</th>\n",
       "      <th>median_income</th>\n",
       "      <th>median_house_value</th>\n",
       "      <th>ocean_proximity</th>\n",
       "    </tr>\n",
       "  </thead>\n",
       "  <tbody>\n",
       "    <tr>\n",
       "      <th>12448</th>\n",
       "      <td>-114.65</td>\n",
       "      <td>33.60</td>\n",
       "      <td>28.0</td>\n",
       "      <td>1678.0</td>\n",
       "      <td>322.0</td>\n",
       "      <td>666.0</td>\n",
       "      <td>256.0</td>\n",
       "      <td>2.9653</td>\n",
       "      <td>94900.0</td>\n",
       "      <td>INLAND</td>\n",
       "    </tr>\n",
       "    <tr>\n",
       "      <th>2745</th>\n",
       "      <td>-115.57</td>\n",
       "      <td>32.79</td>\n",
       "      <td>34.0</td>\n",
       "      <td>1152.0</td>\n",
       "      <td>208.0</td>\n",
       "      <td>621.0</td>\n",
       "      <td>208.0</td>\n",
       "      <td>3.6042</td>\n",
       "      <td>73600.0</td>\n",
       "      <td>INLAND</td>\n",
       "    </tr>\n",
       "    <tr>\n",
       "      <th>2949</th>\n",
       "      <td>-119.00</td>\n",
       "      <td>35.35</td>\n",
       "      <td>31.0</td>\n",
       "      <td>2931.0</td>\n",
       "      <td>716.0</td>\n",
       "      <td>1969.0</td>\n",
       "      <td>588.0</td>\n",
       "      <td>2.2155</td>\n",
       "      <td>62100.0</td>\n",
       "      <td>INLAND</td>\n",
       "    </tr>\n",
       "    <tr>\n",
       "      <th>11792</th>\n",
       "      <td>-121.21</td>\n",
       "      <td>38.83</td>\n",
       "      <td>21.0</td>\n",
       "      <td>3691.0</td>\n",
       "      <td>640.0</td>\n",
       "      <td>1758.0</td>\n",
       "      <td>603.0</td>\n",
       "      <td>3.5607</td>\n",
       "      <td>151900.0</td>\n",
       "      <td>INLAND</td>\n",
       "    </tr>\n",
       "    <tr>\n",
       "      <th>14485</th>\n",
       "      <td>-117.29</td>\n",
       "      <td>32.92</td>\n",
       "      <td>25.0</td>\n",
       "      <td>2355.0</td>\n",
       "      <td>381.0</td>\n",
       "      <td>823.0</td>\n",
       "      <td>358.0</td>\n",
       "      <td>6.8322</td>\n",
       "      <td>500001.0</td>\n",
       "      <td>NEAR OCEAN</td>\n",
       "    </tr>\n",
       "  </tbody>\n",
       "</table>\n",
       "</div>"
      ],
      "text/plain": [
       "       longitude  latitude  housing_median_age  total_rooms  total_bedrooms  \\\n",
       "12448    -114.65     33.60                28.0       1678.0           322.0   \n",
       "2745     -115.57     32.79                34.0       1152.0           208.0   \n",
       "2949     -119.00     35.35                31.0       2931.0           716.0   \n",
       "11792    -121.21     38.83                21.0       3691.0           640.0   \n",
       "14485    -117.29     32.92                25.0       2355.0           381.0   \n",
       "\n",
       "       population  households  median_income  median_house_value  \\\n",
       "12448       666.0       256.0         2.9653             94900.0   \n",
       "2745        621.0       208.0         3.6042             73600.0   \n",
       "2949       1969.0       588.0         2.2155             62100.0   \n",
       "11792      1758.0       603.0         3.5607            151900.0   \n",
       "14485       823.0       358.0         6.8322            500001.0   \n",
       "\n",
       "      ocean_proximity  \n",
       "12448          INLAND  \n",
       "2745           INLAND  \n",
       "2949           INLAND  \n",
       "11792          INLAND  \n",
       "14485      NEAR OCEAN  "
      ]
     },
     "execution_count": 41,
     "metadata": {},
     "output_type": "execute_result"
    }
   ],
   "source": [
    "# Compared to the training data, there has been some new combined features added.\n",
    "# This new data set can be used in future models. For now, strat_train_data will be cleaned and used.\n",
    "# The new features can be added in the data preparation pipeline, though use of a custom transformer class.\n",
    "strat_train_data.head()"
   ]
  },
  {
   "cell_type": "code",
   "execution_count": 42,
   "id": "crucial-soundtrack",
   "metadata": {},
   "outputs": [],
   "source": [
    "#####################\n",
    "### DATA CLEANING ###\n",
    "#####################"
   ]
  },
  {
   "cell_type": "code",
   "execution_count": 188,
   "id": "toxic-screen",
   "metadata": {},
   "outputs": [
    {
     "name": "stdout",
     "output_type": "stream",
     "text": [
      "<class 'pandas.core.frame.DataFrame'>\n",
      "Int64Index: 16356 entries, 12448 to 18559\n",
      "Data columns (total 9 columns):\n",
      " #   Column              Non-Null Count  Dtype  \n",
      "---  ------              --------------  -----  \n",
      " 0   longitude           16356 non-null  float64\n",
      " 1   latitude            16356 non-null  float64\n",
      " 2   housing_median_age  16356 non-null  float64\n",
      " 3   total_rooms         16356 non-null  float64\n",
      " 4   total_bedrooms      16356 non-null  float64\n",
      " 5   population          16356 non-null  float64\n",
      " 6   households          16356 non-null  float64\n",
      " 7   median_income       16356 non-null  float64\n",
      " 8   ocean_proximity     16356 non-null  object \n",
      "dtypes: float64(8), object(1)\n",
      "memory usage: 1.2+ MB\n"
     ]
    }
   ],
   "source": [
    "# As mentioned previously, the \"total_bedrooms\" feature is missing in some instances.\n",
    "# This can be fixed by removing those instances, the entire feature or filling the gaps with median values.\n",
    "# Here, the instances which are missing \"total_bedrooms\" will be removed.\n",
    "housing = strat_train_data.dropna(subset=[\"total_bedrooms\"])\n",
    "# Note: drop copies to a new data frame, strat_train_data is unaffected by this operation.\n",
    "# The labels are copied to a seperate data frame.\n",
    "housing_labels = housing[\"median_house_value\"].copy()\n",
    "housing = housing.drop(\"median_house_value\", axis=1)\n",
    "housing.info()"
   ]
  },
  {
   "cell_type": "code",
   "execution_count": 189,
   "id": "close-therapy",
   "metadata": {},
   "outputs": [],
   "source": [
    "# SciKit learn pipeline functionality for data preparation uses the duck typing.\n",
    "# Duck typing is where custom classes are not based on inheritance, but are based more so on\n",
    "# the presence of methods within the class. In this case, 'fit' and 'transform'.\n",
    "# Once these methods are present in the class, the custom class is ready to be seamlessly intergrated\n",
    "# in to the pipeline.\n",
    "# Note: inheriting from TransformerMixin automatically gives the class the required 'fit_transform' method.\n",
    "# Similarly, BaseEstimator gives the methods 'get_params' & 'set_params', useful for hyperparameter tuning.\n",
    "# In this case, hyperparameters (add_bedrooms_per_room) would be used to chop and change the combined features added.\n",
    "class CombinedFeatures(BaseEstimator, TransformerMixin):\n",
    "    def __init__(self, add_bedrooms_per_room=True):\n",
    "        self.irooms = 3\n",
    "        self.ibedrooms = 4\n",
    "        self.ipopulation = 5\n",
    "        self.ihouseholds = 6\n",
    "        self.add_bedrooms_per_room = add_bedrooms_per_room\n",
    "        \n",
    "        \n",
    "    def fit(self, X, y=None):\n",
    "        return self\n",
    "    \n",
    "    \n",
    "    def transform(self, X):\n",
    "        # This method was edited w.r.t to the one in the example code.\n",
    "        # The features are added into a list (with the original set of data values, X).\n",
    "        # This list is then passed to a new method, c_, which allows the list to be expanded using *.\n",
    "        # The transformation using np.c_[] can then continue as per, since each element has been expanded into it.\n",
    "        X = X.values\n",
    "        combined_features = [X]\n",
    "        combined_features.append(X[:, self.irooms] / X[:, self.ihouseholds])\n",
    "        combined_features.append(X[:, self.ipopulation] / X[:, self.ihouseholds])\n",
    "        if self.add_bedrooms_per_room:\n",
    "            combined_features.append(X[:, self.ibedrooms] / X[:, self.ihouseholds])\n",
    "        return self.c_(*combined_features)\n",
    "        \n",
    "        \n",
    "    def c_(self, *args):\n",
    "        return np.c_[args]"
   ]
  },
  {
   "cell_type": "code",
   "execution_count": 190,
   "id": "comparable-harvard",
   "metadata": {},
   "outputs": [],
   "source": [
    "# Testing the above class. This transformer will be added to the pipeline,\n",
    "# so that the prepared data will include the new combined features.\n",
    "combined_features = CombinedFeatures()\n",
    "housing_add_features = combined_features.transform(housing)"
   ]
  },
  {
   "cell_type": "code",
   "execution_count": 191,
   "id": "healthy-summary",
   "metadata": {},
   "outputs": [],
   "source": [
    "#################################\n",
    "### DATA PREPARATION PIPELINE ###\n",
    "#################################"
   ]
  },
  {
   "cell_type": "code",
   "execution_count": 209,
   "id": "hollywood-satisfaction",
   "metadata": {},
   "outputs": [
    {
     "name": "stdout",
     "output_type": "stream",
     "text": [
      "<class 'pandas.core.frame.DataFrame'>\n",
      "Int64Index: 16356 entries, 12448 to 18559\n",
      "Data columns (total 9 columns):\n",
      " #   Column              Non-Null Count  Dtype  \n",
      "---  ------              --------------  -----  \n",
      " 0   longitude           16356 non-null  float64\n",
      " 1   latitude            16356 non-null  float64\n",
      " 2   housing_median_age  16356 non-null  float64\n",
      " 3   total_rooms         16356 non-null  float64\n",
      " 4   total_bedrooms      16356 non-null  float64\n",
      " 5   population          16356 non-null  float64\n",
      " 6   households          16356 non-null  float64\n",
      " 7   median_income       16356 non-null  float64\n",
      " 8   ocean_proximity     16356 non-null  object \n",
      "dtypes: float64(8), object(1)\n",
      "memory usage: 1.2+ MB\n",
      "Housing prepared data: <class 'numpy.ndarray'>\n",
      "(16356, 16) 2\n",
      "Housing labels: <class 'pandas.core.series.Series'>\n",
      "(16356,) 1\n"
     ]
    }
   ],
   "source": [
    "# First, split the data into numerical and categorical features.\n",
    "housing.info()\n",
    "housing_numerical = housing.drop(\"ocean_proximity\", axis=1)\n",
    "numerical_features = list(housing_numerical)\n",
    "categorical_features = [\"ocean_proximity\"]\n",
    "\n",
    "# The numerical pipeline consists of the custom transformer for added combined features,\n",
    "# and a scaler to standardize values (machine learning algorithms do not perform well on a variety of different scales).\n",
    "# StandardScaler offers standardization in a ready-made transformer.\n",
    "# Standardizing subtracts the mean from each value (mean values are then 0) and divides the result by the standard deviation,\n",
    "# resulting in a (standard normal) distribution with unit variance (standard deviation of 1).\n",
    "numerical_pipeline = Pipeline([\n",
    "    ('combined_features', CombinedFeatures()),\n",
    "    ('std_scaler', StandardScaler()),\n",
    "])\n",
    "\n",
    "# The numerical pipeline is combined with the categorical pipeline to create the full pipeline for transforming/preparing\n",
    "# the data for the model. Machine learning algorithms prefer to work with numbers, which is why the categorical feature is\n",
    "# transformed. The categorical transformer is a OneHotEncoder, which takes every category and creates a new\n",
    "# feature for each. The feature is binary, indicating whether or not the feature is active or not in the current instance.\n",
    "# For example, \"1\" if the instance is \"INLAND\" and \"0\" if it is not. This tranformation is viable when there are not many\n",
    "# different categories. An ordinal encoder could have been used, which simply converts each category to a number.\n",
    "# However, this can be a problem as the algorithm may assume numbers 'close' to each other are more similar than ones\n",
    "# 'further apart'.\n",
    "full_pipeline = ColumnTransformer([\n",
    "    (\"num\", numerical_pipeline, numerical_features),\n",
    "    (\"cat\", OneHotEncoder(), categorical_features),\n",
    "])\n",
    "\n",
    "housing_prepared = full_pipeline.fit_transform(housing)\n",
    "print(\"Housing prepared data: %s\" % (type(housing_prepared)))\n",
    "print(housing_prepared.shape, housing_prepared.ndim)\n",
    "print(\"Housing labels: %s\" % (type(housing_labels)))\n",
    "print(housing_labels.shape, housing_labels.ndim)"
   ]
  },
  {
   "cell_type": "code",
   "execution_count": 210,
   "id": "spectacular-eligibility",
   "metadata": {},
   "outputs": [],
   "source": [
    "######################\n",
    "### MODEL TRAINING ###\n",
    "######################"
   ]
  },
  {
   "cell_type": "code",
   "execution_count": 211,
   "id": "natural-dakota",
   "metadata": {},
   "outputs": [
    {
     "data": {
      "text/plain": [
       "LinearRegression()"
      ]
     },
     "execution_count": 211,
     "metadata": {},
     "output_type": "execute_result"
    }
   ],
   "source": [
    "model = LinearRegression()\n",
    "model.fit(housing_prepared, housing_labels)"
   ]
  },
  {
   "cell_type": "code",
   "execution_count": 212,
   "id": "worthy-mambo",
   "metadata": {},
   "outputs": [
    {
     "name": "stdout",
     "output_type": "stream",
     "text": [
      "Predictions: [ 63454.49463202 132021.88835198 106990.64324557 116337.77870837\n",
      " 348891.62671578]\n",
      "Labels: [94900.0, 73600.0, 62100.0, 151900.0, 500001.0]\n"
     ]
    }
   ],
   "source": [
    "some_data = housing.iloc[:5]\n",
    "some_labels = housing_labels.iloc[:5]\n",
    "some_data_prepared = full_pipeline.transform(some_data)\n",
    "print(\"Predictions:\", model.predict(some_data_prepared))\n",
    "print(\"Labels:\", list(some_labels))"
   ]
  },
  {
   "cell_type": "code",
   "execution_count": 213,
   "id": "federal-festival",
   "metadata": {},
   "outputs": [
    {
     "data": {
      "text/plain": [
       "68155.9668523304"
      ]
     },
     "execution_count": 213,
     "metadata": {},
     "output_type": "execute_result"
    }
   ],
   "source": [
    "predictions = model.predict(housing_prepared)\n",
    "mse = mean_squared_error(housing_labels, predictions)\n",
    "rmse = np.sqrt(mse)\n",
    "rmse"
   ]
  },
  {
   "cell_type": "code",
   "execution_count": 214,
   "id": "diagnostic-villa",
   "metadata": {},
   "outputs": [
    {
     "data": {
      "text/plain": [
       "array([66937.17007415, 69353.34813559])"
      ]
     },
     "execution_count": 214,
     "metadata": {},
     "output_type": "execute_result"
    }
   ],
   "source": [
    "confidence = 0.95\n",
    "squared_errors = (predictions - housing_labels) ** 2\n",
    "np.sqrt(stats.t.interval(confidence,\n",
    "                         len(squared_errors)-1,\n",
    "                         loc=squared_errors.mean(),\n",
    "                         scale=stats.sem(squared_errors)\n",
    "                        ))"
   ]
  },
  {
   "cell_type": "code",
   "execution_count": null,
   "id": "sporting-spokesman",
   "metadata": {},
   "outputs": [],
   "source": []
  }
 ],
 "metadata": {
  "kernelspec": {
   "display_name": "Python 3",
   "language": "python",
   "name": "python3"
  },
  "language_info": {
   "codemirror_mode": {
    "name": "ipython",
    "version": 3
   },
   "file_extension": ".py",
   "mimetype": "text/x-python",
   "name": "python",
   "nbconvert_exporter": "python",
   "pygments_lexer": "ipython3",
   "version": "3.7.9"
  }
 },
 "nbformat": 4,
 "nbformat_minor": 5
}
